{
 "cells": [
  {
   "attachments": {},
   "cell_type": "markdown",
   "metadata": {},
   "source": [
    "Importing setting pygame and pymunk"
   ]
  },
  {
   "cell_type": "code",
   "execution_count": 1,
   "metadata": {},
   "outputs": [
    {
     "name": "stdout",
     "output_type": "stream",
     "text": [
      "pygame 2.1.2 (SDL 2.0.18, Python 3.10.5)\n",
      "Hello from the pygame community. https://www.pygame.org/contribute.html\n"
     ]
    }
   ],
   "source": [
    "import pygame as pg\n",
    "import pymunk.pygame_util as pym\n",
    "pym.positive_y_is_up = False\n",
    "from sys import exit\n",
    "from random import randrange\n",
    "import pymunk"
   ]
  },
  {
   "attachments": {},
   "cell_type": "markdown",
   "metadata": {},
   "source": [
    "Initializing Pygame"
   ]
  },
  {
   "cell_type": "code",
   "execution_count": 2,
   "metadata": {},
   "outputs": [
    {
     "data": {
      "text/plain": [
       "(5, 0)"
      ]
     },
     "execution_count": 2,
     "metadata": {},
     "output_type": "execute_result"
    }
   ],
   "source": [
    "pg.init()"
   ]
  },
  {
   "attachments": {},
   "cell_type": "markdown",
   "metadata": {},
   "source": [
    "Setting Screen"
   ]
  },
  {
   "cell_type": "code",
   "execution_count": 3,
   "metadata": {},
   "outputs": [],
   "source": [
    "sc_l=700\n",
    "sc_b=700\n",
    "sc=pg.display.set_mode((sc_l,sc_b))\n",
    "draw_option =pym.DrawOptions(sc)#making drawing option for pymunk on pygame\n",
    "pg.display.set_caption(\"Galton Board Simulation\")"
   ]
  },
  {
   "attachments": {},
   "cell_type": "markdown",
   "metadata": {},
   "source": [
    "Creating Space for rendering physics objects"
   ]
  },
  {
   "cell_type": "code",
   "execution_count": 4,
   "metadata": {},
   "outputs": [],
   "source": [
    "space=pymunk.Space()\n",
    "space.gravity=(0,2000)"
   ]
  },
  {
   "attachments": {},
   "cell_type": "markdown",
   "metadata": {},
   "source": [
    "Making time object for simulation"
   ]
  },
  {
   "cell_type": "code",
   "execution_count": 5,
   "metadata": {},
   "outputs": [],
   "source": [
    "clock=pg.time.Clock()"
   ]
  },
  {
   "attachments": {},
   "cell_type": "markdown",
   "metadata": {},
   "source": [
    "Functions"
   ]
  },
  {
   "attachments": {},
   "cell_type": "markdown",
   "metadata": {},
   "source": [
    "creating ball"
   ]
  },
  {
   "cell_type": "code",
   "execution_count": 6,
   "metadata": {},
   "outputs": [],
   "source": [
    "def create_ball(x,y):\n",
    "    mass=1\n",
    "    radius=6\n",
    "    moment=pymunk.moment_for_circle(mass,0,radius)\n",
    "    body=pymunk.Body(mass,moment)\n",
    "    body.position=(x,y)\n",
    "    shape=pymunk.Circle(body,radius)\n",
    "    #shape.color=pg.color.THECOLORS['blue']\n",
    "    shape.elasticity=0.8\n",
    "    shape.friction = 0.5\n",
    "    space.add(body,shape)\n",
    "    return body"
   ]
  },
  {
   "attachments": {},
   "cell_type": "markdown",
   "metadata": {},
   "source": [
    "Creating static bodies"
   ]
  },
  {
   "attachments": {},
   "cell_type": "markdown",
   "metadata": {},
   "source": [
    "Creating Segments"
   ]
  },
  {
   "cell_type": "code",
   "execution_count": 7,
   "metadata": {},
   "outputs": [],
   "source": [
    "def create_segment(st,ed):\n",
    "    shape=pymunk.Segment(space.static_body,st,ed,5)\n",
    "    shape.friction=0.5\n",
    "    space.add(shape)"
   ]
  },
  {
   "attachments": {},
   "cell_type": "markdown",
   "metadata": {},
   "source": [
    "Creating Pegs"
   ]
  },
  {
   "cell_type": "code",
   "execution_count": 8,
   "metadata": {},
   "outputs": [],
   "source": [
    "def create_peg(x,y):\n",
    "    peg_shape=pymunk.Circle(space.static_body,radius=10,offset=(x,y))\n",
    "    peg_shape.color =(255,0,0,100) \n",
    "    peg_shape.elasticity = 0.8\n",
    "    peg_shape.friction = 0.5\n",
    "    space.add(peg_shape)"
   ]
  },
  {
   "attachments": {},
   "cell_type": "markdown",
   "metadata": {},
   "source": [
    "Running condition"
   ]
  },
  {
   "cell_type": "code",
   "execution_count": 9,
   "metadata": {},
   "outputs": [],
   "source": [
    "run = True"
   ]
  },
  {
   "attachments": {},
   "cell_type": "markdown",
   "metadata": {},
   "source": [
    "Creating Top platform (using Segments)"
   ]
  },
  {
   "cell_type": "code",
   "execution_count": 10,
   "metadata": {},
   "outputs": [],
   "source": [
    "create_segment((5,5),(5,50))\n",
    "create_segment((sc_b-5,5),(sc_b-5,50))\n",
    "create_segment((5,50),(250,100))\n",
    "create_segment((sc_b-5,50),(sc_b-250,100))\n",
    "create_segment((0,sc_l),(sc_b,sc_l))"
   ]
  },
  {
   "attachments": {},
   "cell_type": "markdown",
   "metadata": {},
   "source": [
    "Arranging Pegs and calling the Create peg function"
   ]
  },
  {
   "cell_type": "code",
   "execution_count": 11,
   "metadata": {},
   "outputs": [],
   "source": [
    "p_x=0\n",
    "p_y=150\n",
    "st=60\n",
    "for l in range(7):\n",
    "    if(l % 2 == 0):\n",
    "        p_x=-20\n",
    "    else:\n",
    "        p_x=-10\n",
    "    for p in range(16):\n",
    "        p_x+=50\n",
    "        create_peg(p_x,p_y)\n",
    "        if(l == 6):\n",
    "            create_segment((p_x,p_y+80),(p_x,sc_l))\n",
    "    p_y+=40"
   ]
  },
  {
   "attachments": {},
   "cell_type": "markdown",
   "metadata": {},
   "source": [
    "Main loop of Simulation"
   ]
  },
  {
   "cell_type": "code",
   "execution_count": 12,
   "metadata": {},
   "outputs": [
    {
     "ename": "SystemExit",
     "evalue": "",
     "output_type": "error",
     "traceback": [
      "An exception has occurred, use %tb to see the full traceback.\n",
      "\u001b[1;31mSystemExit\u001b[0m\n"
     ]
    },
    {
     "name": "stderr",
     "output_type": "stream",
     "text": [
      "c:\\Users\\ratho\\AppData\\Local\\Programs\\Python\\Python310\\lib\\site-packages\\IPython\\core\\interactiveshell.py:3406: UserWarning: To exit: use 'exit', 'quit', or Ctrl-D.\n",
      "  warn(\"To exit: use 'exit', 'quit', or Ctrl-D.\", stacklevel=1)\n"
     ]
    }
   ],
   "source": [
    "while run :\n",
    "    sc.fill('black') #For filling screen black color\n",
    "    for event in pg.event.get():   # for getting events\n",
    "        if(event.type  == pg.QUIT):  #for checking quit event\n",
    "            pg.quit()\n",
    "            exit()\n",
    "        if(event.type == pg.MOUSEBUTTONDOWN):   #for checking mouse click event\n",
    "            x,y=pg.mouse.get_pos()   #getting x and y coords of mouse\n",
    "            create_ball(x,y)\n",
    "    key=pg.key.get_pressed() #extracting the pressed key\n",
    "    if(key[pg.K_SPACE]):  #checking if Space is pressed\n",
    "        for x in range(30):\n",
    "            create_ball(randrange(10,sc_b-10),randrange(10,50)) #creating ball in random position in top platform\n",
    "\n",
    "    space.step(1/60) # time taken to calculate and show the interaction\n",
    "    space.debug_draw(draw_option) \n",
    "    pg.display.update() #updating display\n",
    "\n",
    "    clock.tick(60) #setting the fps for pygame window"
   ]
  }
 ],
 "metadata": {
  "kernelspec": {
   "display_name": "Python 3",
   "language": "python",
   "name": "python3"
  },
  "language_info": {
   "codemirror_mode": {
    "name": "ipython",
    "version": 3
   },
   "file_extension": ".py",
   "mimetype": "text/x-python",
   "name": "python",
   "nbconvert_exporter": "python",
   "pygments_lexer": "ipython3",
   "version": "3.10.5"
  },
  "orig_nbformat": 4,
  "vscode": {
   "interpreter": {
    "hash": "4be33cc4d4eac7aacdf90846ad39a3e22f0d855ec00fa6211d1827472932dcba"
   }
  }
 },
 "nbformat": 4,
 "nbformat_minor": 2
}
